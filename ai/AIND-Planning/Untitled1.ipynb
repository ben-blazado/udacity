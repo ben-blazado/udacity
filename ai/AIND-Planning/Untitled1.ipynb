{
 "cells": [
  {
   "cell_type": "markdown",
   "metadata": {},
   "source": [
    "The following searches wer performed on each of the three air cargo problems:\n",
    "\n",
    "- A* with h_1, h_ignore_preconditions, and h_level_sum\n",
    "- Breadth First\n",
    "- Depth First\n",
    "- Uniform Cost\n"
   ]
  },
  {
   "cell_type": "code",
   "execution_count": null,
   "metadata": {
    "collapsed": true
   },
   "outputs": [],
   "source": []
  },
  {
   "cell_type": "markdown",
   "metadata": {},
   "source": [
    "| Search | Heuristic | Expansions | Goal Tests | New Nodes | Plan Length | Time (Secs)\n",
    "| ------ | --------- | ---------- | ---------- | --------- | ----------- | -----------\n",
    "| Depth First | | 21 | 22 | 84 | 20 | 0.03\n",
    "| A* | h_ignore_preconditions | 41 | 43 | 170 | 6 | 0.06\n",
    "Breadth First\t\t43\t56\t180\t6\t0.07\n",
    "Uniform Cost\t\t55\t57\t224\t6\t0.08\n",
    "A*\th_1\t55\t57\t224\t6\t0.08\n",
    "A*\th_pg_levelsum\t28\t30\t114\t6\t1.03\n"
   ]
  }
 ],
 "metadata": {
  "kernelspec": {
   "display_name": "Python 3",
   "language": "python",
   "name": "python3"
  },
  "language_info": {
   "codemirror_mode": {
    "name": "ipython",
    "version": 3
   },
   "file_extension": ".py",
   "mimetype": "text/x-python",
   "name": "python",
   "nbconvert_exporter": "python",
   "pygments_lexer": "ipython3",
   "version": "3.6.0"
  }
 },
 "nbformat": 4,
 "nbformat_minor": 2
}
