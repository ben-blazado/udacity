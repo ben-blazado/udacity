{
 "cells": [
  {
   "cell_type": "markdown",
   "metadata": {},
   "source": [
    "# Comparison of Search Algorithms\n",
    "## by Ben Blazado\n",
    "\n",
    "The following searches were performed on air_cargo_p1, air_cargo_p2, and air_cargo_p3  "
   ]
  },
  {
   "cell_type": "markdown",
   "metadata": {},
   "source": [
    "| Problem\tSearch | Heuristic | Expansions | Goal Tests | New Nodes | Plan Length | Time Elapsed\n",
    "| ---------------- | --------- | ---------- | ---------- | --------- | ----------- | ------------\n",
    "| Air Cargo Problem 1 |\tdepth_first_graph_search | 21 | 22 | 84 | 20 | 0.031464238\n",
    "\n",
    "Air Cargo Problem 1\tastar_search\th_ignore_preconditions\t41\t43\t170\t6\t0.063229951\n",
    "Air Cargo Problem 1\tbreadth_first_search\t\t43\t56\t180\t6\t0.067491261\n",
    "Air Cargo Problem 1\tuniform_cost_search\t\t55\t57\t224\t6\t0.082592119\n",
    "Air Cargo Problem 1\tastar_search\th_1\t55\t57\t224\t6\t0.083541118\n",
    "Air Cargo Problem 1\tastar_search\th_pg_levelsum\t28\t30\t114\t6\t1.028191984\n",
    "Air Cargo Problem 2\tdepth_first_graph_search\t\t624\t625\t5602\t619\t4.446448422\n",
    "Air Cargo Problem 2\tastar_search\th_ignore_preconditions\t1450\t1452\t13303\t9\t6.889113799\n",
    "Air Cargo Problem 2\tbreadth_first_search\t\t3343\t4609\t30509\t9\t20.13245025\n",
    "Air Cargo Problem 2\tastar_search\th_1\t4853\t4855\t44041\t9\t22.55339888\n",
    "Air Cargo Problem 2\tuniform_cost_search\t\t4853\t4855\t44041\t9\t22.71868492\n",
    "Air Cargo Problem 2\tastar_search\th_pg_levelsum\t659\t661\t5977\t9\t279.7875932\n",
    "Air Cargo Problem 3\tdepth_first_graph_search\t\t408\t409\t3364\t392\t2.469867402\n",
    "Air Cargo Problem 3\tastar_search\th_ignore_preconditions\t5040\t5042\t44944\t12\t25.56558528\n",
    "Air Cargo Problem 3\tastar_search\th_1\t18235\t18237\t159716\t12\t90.42388176\n",
    "Air Cargo Problem 3\tuniform_cost_search\t\t18235\t18237\t159716\t12\t90.74624052\n",
    "Air Cargo Problem 3\tbreadth_first_search\t\t14663\t18098\t129631\t12\t120.1572429\n",
    "Air Cargo Problem 3\tastar_search\th_pg_levelsum\t1133\t1135\t10025\t12\t806.6243497\n"
   ]
  }
 ],
 "metadata": {
  "kernelspec": {
   "display_name": "Python 3",
   "language": "python",
   "name": "python3"
  },
  "language_info": {
   "codemirror_mode": {
    "name": "ipython",
    "version": 3
   },
   "file_extension": ".py",
   "mimetype": "text/x-python",
   "name": "python",
   "nbconvert_exporter": "python",
   "pygments_lexer": "ipython3",
   "version": "3.6.0"
  }
 },
 "nbformat": 4,
 "nbformat_minor": 2
}
